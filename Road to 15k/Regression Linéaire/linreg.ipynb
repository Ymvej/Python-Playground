{
 "cells": [
  {
   "cell_type": "code",
   "execution_count": 38,
   "metadata": {},
   "outputs": [],
   "source": [
    "import pandas as pd \n",
    "import math\n",
    "from sklearn.linear_model import LinearRegression\n",
    "from sklearn.model_selection import train_test_split\n",
    "from sklearn.metrics import r2_score, mean_squared_error"
   ]
  },
  {
   "cell_type": "code",
   "execution_count": 39,
   "metadata": {},
   "outputs": [
    {
     "output_type": "stream",
     "name": "stdout",
     "text": "Unnamed: 0  Comptes  Duree_credit  Montant_credit  Epargne  \\\n0           1        1             6            1169        0   \n1           2        2            48            5951        1   \n2           3        4            12            2096        1   \n3           4        1            42            7882        1   \n4           5        1            24            4870        1   \n\n   Anciennete_emploi  Taux_effort  Anciennete_domicile  Age  Nb_credits  \\\n0                  5            4                    4   67           2   \n1                  3            2                    2   22           1   \n2                  4            2                    3   49           1   \n3                  4            2                    4   45           1   \n4                  3            3                    4   53           2   \n\n   Nb_pers_charge  Cible  \n0               1      0  \n1               1      1  \n2               2      0  \n3               2      0  \n4               2      1  \n"
    }
   ],
   "source": [
    "data = pd.read_csv('/home/samuel/Workspace/Playgrounds/Python-Playground/Road to 15k/credit.csv')\n",
    "data.drop(['Cle', 'Historique_credit', 'Objet_credit', 'Statut_domicile', 'Type_emploi', 'Telephone', 'Situation_familiale', 'Garanties', 'Biens', 'Autres_credits'], axis=1, inplace=True)\n",
    "print(data.head())"
   ]
  },
  {
   "cell_type": "code",
   "execution_count": 40,
   "metadata": {},
   "outputs": [],
   "source": [
    "X = data.drop('Montant_credit', axis=1)\n",
    "y = data['Montant_credit']\n",
    "\n",
    "X_train, X_test, y_train, y_test = train_test_split(X, y, test_size=0.3)"
   ]
  },
  {
   "cell_type": "code",
   "execution_count": 41,
   "metadata": {},
   "outputs": [],
   "source": [
    "linreg = LinearRegression().fit(X_train, y_train)\n",
    "pred = linreg.predict(X_test)"
   ]
  },
  {
   "cell_type": "code",
   "execution_count": 42,
   "metadata": {},
   "outputs": [
    {
     "output_type": "stream",
     "name": "stdout",
     "text": "R² : 0.4556765131705598 | RMSE : 2223.01351179911\n"
    }
   ],
   "source": [
    "r2 = r2_score(y_test, pred)\n",
    "rmse = math.sqrt(mean_squared_error(y_test, pred))\n",
    "\n",
    "print('R² : %s | RMSE : %s'%(r2, rmse))"
   ]
  }
 ],
 "metadata": {
  "language_info": {
   "codemirror_mode": {
    "name": "ipython",
    "version": 3
   },
   "file_extension": ".py",
   "mimetype": "text/x-python",
   "name": "python",
   "nbconvert_exporter": "python",
   "pygments_lexer": "ipython3",
   "version": "3.7.7-final"
  },
  "orig_nbformat": 2,
  "kernelspec": {
   "name": "python37664bitae92107ef1104853a28e8557db508d96",
   "display_name": "Python 3.7.6 64-bit"
  }
 },
 "nbformat": 4,
 "nbformat_minor": 2
}