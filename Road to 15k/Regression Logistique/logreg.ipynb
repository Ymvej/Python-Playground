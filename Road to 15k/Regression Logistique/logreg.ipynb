{
 "cells": [
  {
   "cell_type": "code",
   "execution_count": 2,
   "metadata": {},
   "outputs": [],
   "source": [
    "import pandas as pd \n",
    "import math\n",
    "from sklearn.linear_model import LogisticRegression\n",
    "from sklearn.model_selection import train_test_split\n",
    "from sklearn.metrics import accuracy_score, confusion_matrix\n"
   ]
  },
  {
   "cell_type": "code",
   "execution_count": 3,
   "metadata": {},
   "outputs": [
    {
     "output_type": "stream",
     "name": "stdout",
     "text": "Unnamed: 0  Comptes  Duree_credit Historique_credit Objet_credit  \\\n0           1        1             6               A34          A43   \n1           2        2            48               A32          A43   \n2           3        4            12               A34          A46   \n3           4        1            42               A32          A42   \n4           5        1            24               A33          A40   \n\n   Montant_credit  Epargne  Anciennete_emploi  Taux_effort  \\\n0            1169        0                  5            4   \n1            5951        1                  3            2   \n2            2096        1                  4            2   \n3            7882        1                  4            2   \n4            4870        1                  3            3   \n\n  Situation_familiale  ... Biens  Age Autres_credits  Statut_domicile  \\\n0                 A93  ...  A121   67           A143             A152   \n1                 A92  ...  A121   22           A143             A152   \n2                 A93  ...  A121   49           A143             A152   \n3                 A93  ...  A122   45           A143             A153   \n4                 A93  ...  A124   53           A143             A153   \n\n  Nb_credits Type_emploi  Nb_pers_charge Telephone  Cible Cle  \n0          2        A173               1      A192      0   1  \n1          1        A173               1      A191      1   2  \n2          1        A172               2      A191      0   3  \n3          1        A173               2      A191      0   4  \n4          2        A173               2      A191      1   5  \n\n[5 rows x 22 columns]\nColonne - Type - Nombre de valeurs uniques - %age de valeurs présentes\n----------------------------------------------------------------------\nUnnamed: 0 - int64 - 1000 - 100\nComptes - int64 - 4 - 100\nDuree_credit - int64 - 33 - 100\nHistorique_credit - object - 5 - 100\nObjet_credit - object - 10 - 100\nMontant_credit - int64 - 921 - 100\nEpargne - int64 - 5 - 100\nAnciennete_emploi - int64 - 5 - 100\nTaux_effort - int64 - 4 - 100\nSituation_familiale - object - 4 - 100\nGaranties - object - 3 - 100\nAnciennete_domicile - int64 - 4 - 100\nBiens - object - 4 - 100\nAge - int64 - 53 - 100\nAutres_credits - object - 3 - 100\nStatut_domicile - object - 3 - 100\nNb_credits - int64 - 4 - 100\nType_emploi - object - 4 - 100\nNb_pers_charge - int64 - 2 - 100\nTelephone - object - 2 - 100\nCible - int64 - 2 - 100\nCle - int64 - 1000 - 100\n"
    }
   ],
   "source": [
    "data = pd.read_csv('/home/samuel/Workspace/Playgrounds/Python-Playground/Road to 15k/credit.csv')\n",
    "\n",
    "print(data.head())\n",
    "\n",
    "\n",
    "print('Colonne - Type - Nombre de valeurs uniques - %age de valeurs présentes')\n",
    "print('----------------------------------------------------------------------')\n",
    "for col in data.columns:\n",
    "    print('%s - %s - %s - %s'%(col,\n",
    "                               data[col].dtypes,\n",
    "                               len(data[col].unique()),\n",
    "                               int(len(data[data[col].isnull() == False]) / len(data) * 100)))"
   ]
  },
  {
   "cell_type": "code",
   "execution_count": 4,
   "metadata": {},
   "outputs": [],
   "source": [
    "def str_to_cat(column):\n",
    "    uniques = column.unique()\n",
    "    scale = {}\n",
    "    for i in range(len(uniques)):\n",
    "        scale[uniques[i]] = i  \n",
    "\n",
    "    new_column = column.apply(lambda x: scale[x])\n",
    "    return new_column"
   ]
  },
  {
   "cell_type": "code",
   "execution_count": 5,
   "metadata": {},
   "outputs": [],
   "source": [
    "strtocat = ['Historique_credit',\n",
    "            'Objet_credit',\n",
    "            'Situation_familiale',\n",
    "            'Garanties', \n",
    "            'Biens',\n",
    "            'Autres_credits',\n",
    "            'Statut_domicile',\n",
    "            'Type_emploi',\n",
    "            'Telephone']\n",
    "\n",
    "#drop l'index doublon\n",
    "data.drop('Unnamed: 0', axis = 1, inplace=True)\n",
    "\n",
    "# toutes les colonnes AXX en categoriel\n",
    "for i in range(len(strtocat)):\n",
    "    data[strtocat[i]] = str_to_cat(data[strtocat[i]])"
   ]
  },
  {
   "cell_type": "code",
   "execution_count": 19,
   "metadata": {},
   "outputs": [
    {
     "output_type": "stream",
     "name": "stdout",
     "text": "Accuracy : 0.76\nConfusion Matrix :\n[[184  22]\n [ 50  44]]\n"
    }
   ],
   "source": [
    "# logreg\n",
    "\n",
    "X = data.drop('Cible', axis=1)\n",
    "y = data['Cible']\n",
    "X_train, X_test, y_train, y_test = train_test_split(X, y, test_size=0.3)\n",
    "\n",
    "logreg = LogisticRegression().fit(X_train, y_train)\n",
    "y_pred = logreg.predict(X_test)\n",
    "\n",
    "acc = accuracy_score(y_test, y_pred)\n",
    "conmat = confusion_matrix(y_test, y_pred)\n",
    "\n",
    "print('Accuracy : %s'%acc)\n",
    "print('Confusion Matrix :')\n",
    "print(conmat)"
   ]
  }
 ],
 "metadata": {
  "language_info": {
   "codemirror_mode": {
    "name": "ipython",
    "version": 3
   },
   "file_extension": ".py",
   "mimetype": "text/x-python",
   "name": "python",
   "nbconvert_exporter": "python",
   "pygments_lexer": "ipython3",
   "version": "3.7.7-final"
  },
  "orig_nbformat": 2,
  "kernelspec": {
   "name": "python37664bitae92107ef1104853a28e8557db508d96",
   "display_name": "Python 3.7.6 64-bit"
  }
 },
 "nbformat": 4,
 "nbformat_minor": 2
}