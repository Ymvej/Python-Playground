{
 "cells": [
  {
   "cell_type": "code",
   "execution_count": 18,
   "metadata": {},
   "outputs": [],
   "source": [
    "import pandas as pd \n",
    "import math\n",
    "import time\n",
    "from sklearn.svm import SVC\n",
    "from sklearn.model_selection import train_test_split\n",
    "from sklearn.metrics import accuracy_score, confusion_matrix\n"
   ]
  },
  {
   "cell_type": "code",
   "execution_count": 19,
   "metadata": {},
   "outputs": [],
   "source": [
    "# import base et nettoyage\n",
    "data = pd.read_csv('/home/samuel/Workspace/Playgrounds/Python-Playground/Road to 15k/credit.csv')\n",
    "\n",
    "strtocat = ['Historique_credit',\n",
    "            'Objet_credit',\n",
    "            'Situation_familiale',\n",
    "            'Garanties', \n",
    "            'Biens',\n",
    "            'Autres_credits',\n",
    "            'Statut_domicile',\n",
    "            'Type_emploi',\n",
    "            'Telephone']\n",
    "\n",
    "def str_to_cat(column):\n",
    "    uniques = column.unique()\n",
    "    scale = {}\n",
    "    for i in range(len(uniques)):\n",
    "        scale[uniques[i]] = i  \n",
    "\n",
    "    new_column = column.apply(lambda x: scale[x])\n",
    "    return new_column\n",
    "\n",
    "data.drop('Unnamed: 0', axis = 1, inplace=True)\n",
    "\n",
    "for i in range(len(strtocat)):\n",
    "    data[strtocat[i]] = str_to_cat(data[strtocat[i]])"
   ]
  },
  {
   "cell_type": "code",
   "execution_count": 20,
   "metadata": {},
   "outputs": [],
   "source": [
    "# split\n",
    "X = data.drop('Cible', axis=1)\n",
    "y = data['Cible']\n",
    "X_train, X_test, y_train, y_test = train_test_split(X, y, test_size=0.3)"
   ]
  },
  {
   "cell_type": "code",
   "execution_count": 30,
   "metadata": {},
   "outputs": [
    {
     "output_type": "stream",
     "name": "stdout",
     "text": "Starting kernel linear\nRegularization parameter at 1.0\nNew best accuracy at 0.6866666666666666 with trees 9 branches deep.\nRegularization parameter at 1.01\nNew best accuracy at 0.7033333333333334 with trees 9 branches deep.\nRegularization parameter at 1.02\nRegularization parameter at 1.03\n"
    }
   ],
   "source": [
    "# svc\n",
    "KERNELS = ['linear', 'poly', 'rbf', 'sigmoid', 'precomputed']\n",
    "\n",
    "maxacc = 0.0\n",
    "start = time.time()\n",
    "\n",
    "for k in range(len(KERNELS)):\n",
    "    print('Starting kernel %s'%KERNELS[k])\n",
    "    reg = 1.0\n",
    "    for c in range(100):\n",
    "        print('Regularization parameter at %s'%reg)\n",
    "        svm = SVC(C=reg, kernel=KERNELS[k], gamma='auto').fit(X_train, y_train)\n",
    "        y_pred = svm.predict(X_test)\n",
    "        reg += 0.01\n",
    "        \n",
    "        acc = accuracy_score(y_test, y_pred)\n",
    "        if acc > maxacc:\n",
    "            maxacc = acc\n",
    "            conmat = confusion_matrix(y_test, y_pred)\n",
    "            print('New best accuracy at %s with trees %s branches deep.'%(acc, i+1))\n",
    "        else:\n",
    "            pass\n",
    "    curr = time.time()\n",
    "    timedd = round(curr - start, 2)\n",
    "    print('Finished kernel %s in %s'%(KERNELS[k], timedd))\n",
    "\n",
    "end = time.time()\n",
    "timed = round(end - start, 2)\n",
    "print('Model finished in %ss'%timed)\n",
    "print('Best Accuracy : %s'%acc)\n",
    "print('Best Confusion Matrix :')\n",
    "print(conmat)"
   ]
  }
 ],
 "metadata": {
  "language_info": {
   "codemirror_mode": {
    "name": "ipython",
    "version": 3
   },
   "file_extension": ".py",
   "mimetype": "text/x-python",
   "name": "python",
   "nbconvert_exporter": "python",
   "pygments_lexer": "ipython3",
   "version": "3.7.7-final"
  },
  "orig_nbformat": 2,
  "kernelspec": {
   "name": "python37664bitae92107ef1104853a28e8557db508d96",
   "display_name": "Python 3.7.6 64-bit"
  }
 },
 "nbformat": 4,
 "nbformat_minor": 2
}