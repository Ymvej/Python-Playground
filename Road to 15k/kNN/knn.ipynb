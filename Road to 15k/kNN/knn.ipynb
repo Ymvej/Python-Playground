{
 "cells": [
  {
   "cell_type": "code",
   "execution_count": 32,
   "metadata": {},
   "outputs": [],
   "source": [
    "import pandas as pd \n",
    "import math\n",
    "from sklearn.neighbors import KNeighborsClassifier\n",
    "from sklearn.model_selection import train_test_split\n",
    "from sklearn.metrics import accuracy_score, confusion_matrix\n"
   ]
  },
  {
   "cell_type": "code",
   "execution_count": 33,
   "metadata": {},
   "outputs": [],
   "source": [
    "# import base et nettoyage\n",
    "data = pd.read_csv('/home/samuel/Workspace/Playgrounds/Python-Playground/Road to 15k/credit.csv')\n",
    "\n",
    "strtocat = ['Historique_credit',\n",
    "            'Objet_credit',\n",
    "            'Situation_familiale',\n",
    "            'Garanties', \n",
    "            'Biens',\n",
    "            'Autres_credits',\n",
    "            'Statut_domicile',\n",
    "            'Type_emploi',\n",
    "            'Telephone']\n",
    "\n",
    "def str_to_cat(column):\n",
    "    uniques = column.unique()\n",
    "    scale = {}\n",
    "    for i in range(len(uniques)):\n",
    "        scale[uniques[i]] = i  \n",
    "\n",
    "    new_column = column.apply(lambda x: scale[x])\n",
    "    return new_column\n",
    "\n",
    "data.drop('Unnamed: 0', axis = 1, inplace=True)\n",
    "\n",
    "for i in range(len(strtocat)):\n",
    "    data[strtocat[i]] = str_to_cat(data[strtocat[i]])"
   ]
  },
  {
   "cell_type": "code",
   "execution_count": 34,
   "metadata": {},
   "outputs": [],
   "source": [
    "# split\n",
    "X = data.drop('Cible', axis=1)\n",
    "y = data['Cible']\n",
    "X_train, X_test, y_train, y_test = train_test_split(X, y, test_size=0.3)"
   ]
  },
  {
   "cell_type": "code",
   "execution_count": 39,
   "metadata": {},
   "outputs": [
    {
     "output_type": "stream",
     "name": "stdout",
     "text": "New best accuracy at 0.5633333333333334 with 1 neighbors.\nNew best accuracy at 0.6666666666666666 with 2 neighbors.\nNew best accuracy at 0.67 with 5 neighbors.\nNew best accuracy at 0.6833333333333333 with 6 neighbors.\nNew best accuracy at 0.6933333333333334 with 8 neighbors.\nNew best accuracy at 0.7233333333333334 with 10 neighbors.\nAccuracy : 0.7233333333333334\nConfusion Matrix :\n[[203   5]\n [ 78  14]]\n"
    }
   ],
   "source": [
    "# knn\n",
    "maxacc = 0.0\n",
    "for i in range(99):\n",
    "    neigh = KNeighborsClassifier(n_neighbors=i+1).fit(X_train, y_train)\n",
    "    y_pred = neigh.predict(X_test)\n",
    "\n",
    "    acc = accuracy_score(y_test, y_pred)\n",
    "    if acc > maxacc:\n",
    "        maxacc = acc\n",
    "        conmat = confusion_matrix(y_test, y_pred)\n",
    "        print('New best accuracy at %s with %s neighbors.'%(acc, i+1))\n",
    "    else:\n",
    "        pass\n",
    "\n",
    "print('Best Accuracy : %s'%maxacc)\n",
    "print('Best Confusion Matrix :')\n",
    "print(conmat)"
   ]
  }
 ],
 "metadata": {
  "language_info": {
   "codemirror_mode": {
    "name": "ipython",
    "version": 3
   },
   "file_extension": ".py",
   "mimetype": "text/x-python",
   "name": "python",
   "nbconvert_exporter": "python",
   "pygments_lexer": "ipython3",
   "version": "3.7.7-final"
  },
  "orig_nbformat": 2,
  "kernelspec": {
   "name": "python37664bitae92107ef1104853a28e8557db508d96",
   "display_name": "Python 3.7.6 64-bit"
  }
 },
 "nbformat": 4,
 "nbformat_minor": 2
}