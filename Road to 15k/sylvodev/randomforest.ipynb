{
 "cells": [
  {
   "cell_type": "code",
   "execution_count": 25,
   "metadata": {},
   "outputs": [],
   "source": [
    "import pandas as pd \n",
    "import math\n",
    "import time\n",
    "from sklearn.ensemble import RandomForestClassifier\n",
    "from sklearn.model_selection import train_test_split\n",
    "from sklearn.metrics import accuracy_score, confusion_matrix\n"
   ]
  },
  {
   "cell_type": "code",
   "execution_count": 26,
   "metadata": {},
   "outputs": [],
   "source": [
    "# import base et nettoyage\n",
    "data = pd.read_csv('/home/samuel/Workspace/Playgrounds/Python-Playground/Road to 15k/credit.csv')\n",
    "\n",
    "strtocat = ['Historique_credit',\n",
    "            'Objet_credit',\n",
    "            'Situation_familiale',\n",
    "            'Garanties', \n",
    "            'Biens',\n",
    "            'Autres_credits',\n",
    "            'Statut_domicile',\n",
    "            'Type_emploi',\n",
    "            'Telephone']\n",
    "\n",
    "def str_to_cat(column):\n",
    "    uniques = column.unique()\n",
    "    scale = {}\n",
    "    for i in range(len(uniques)):\n",
    "        scale[uniques[i]] = i  \n",
    "\n",
    "    new_column = column.apply(lambda x: scale[x])\n",
    "    return new_column\n",
    "\n",
    "data.drop('Unnamed: 0', axis = 1, inplace=True)\n",
    "\n",
    "for i in range(len(strtocat)):\n",
    "    data[strtocat[i]] = str_to_cat(data[strtocat[i]])"
   ]
  },
  {
   "cell_type": "code",
   "execution_count": 27,
   "metadata": {},
   "outputs": [],
   "source": [
    "# split\n",
    "X = data.drop('Cible', axis=1)\n",
    "y = data['Cible']\n",
    "X_train, X_test, y_train, y_test = train_test_split(X, y, test_size=0.3)"
   ]
  },
  {
   "cell_type": "code",
   "execution_count": 28,
   "metadata": {},
   "outputs": [
    {
     "output_type": "stream",
     "name": "stdout",
     "text": "New best accuracy at 0.7333333333333333 with trees 1 branches deep.\nNew best accuracy at 0.7433333333333333 with trees 4 branches deep.\nNew best accuracy at 0.7466666666666667 with trees 5 branches deep.\nNew best accuracy at 0.75 with trees 6 branches deep.\nNew best accuracy at 0.7733333333333333 with trees 7 branches deep.\nNew best accuracy at 0.78 with trees 11 branches deep.\nModel finished in 40.61s\nBest Accuracy : 0.78\nBest Confusion Matrix :\n[[200  20]\n [ 46  34]]\n"
    }
   ],
   "source": [
    "# random forest\n",
    "maxacc = 0.0\n",
    "start = time.time()\n",
    "for i in range(20): # test depths 1-20\n",
    "    for j in range(10): # 10 times each\n",
    "        rf = RandomForestClassifier(max_depth=i+1, random_state=0).fit(X_train, y_train)\n",
    "        y_pred = rf.predict(X_test)\n",
    "\n",
    "        acc = accuracy_score(y_test, y_pred)\n",
    "        if acc > maxacc:\n",
    "            maxacc = acc\n",
    "            conmat = confusion_matrix(y_test, y_pred)\n",
    "            print('New best accuracy at %s with trees %s branches deep.'%(acc, i+1))\n",
    "        else:\n",
    "            pass\n",
    "\n",
    "end = time.time()\n",
    "timed = round(end - start, 2)\n",
    "print('Model finished in %ss'%timed)\n",
    "print('Best Accuracy : %s'%maxacc)\n",
    "print('Best Confusion Matrix :')\n",
    "print(conmat)"
   ]
  }
 ],
 "metadata": {
  "language_info": {
   "codemirror_mode": {
    "name": "ipython",
    "version": 3
   },
   "file_extension": ".py",
   "mimetype": "text/x-python",
   "name": "python",
   "nbconvert_exporter": "python",
   "pygments_lexer": "ipython3",
   "version": "3.7.7-final"
  },
  "orig_nbformat": 2,
  "kernelspec": {
   "name": "python37664bitae92107ef1104853a28e8557db508d96",
   "display_name": "Python 3.7.6 64-bit"
  }
 },
 "nbformat": 4,
 "nbformat_minor": 2
}